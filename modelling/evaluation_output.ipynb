{
 "cells": [
  {
   "cell_type": "code",
   "execution_count": 4,
   "metadata": {},
   "outputs": [],
   "source": [
    "import torch\n",
    "import os\n",
    "import numpy as np\n",
    "import matplotlib.pyplot as plt\n",
    "plt.style.use('seaborn-white')\n",
    "from nltk import word_tokenize, ngrams\n",
    "import argparse\n",
    "import os\n",
    "import re\n",
    "import time\n",
    "\n",
    "from nltk import sent_tokenize\n",
    "import evaluate\n"
   ]
  },
  {
   "cell_type": "code",
   "execution_count": 7,
   "metadata": {},
   "outputs": [],
   "source": [
    "def get_all_filepaths(dir):\n",
    "    file_paths = {}\n",
    "    titles = [\"head_0\", \"head_1\", \"mixed\"]\n",
    "    for title in titles:\n",
    "        path = os.path.join(dir, title)\n",
    "        path = os.path.join(path,\"test_outfinal.txt\")\n",
    "        file_paths[title] = path\n",
    "    return file_paths\n",
    "def get_paired_outputs(filepath):\n",
    "    paired_outputs = {}\n",
    "    with open(filepath, \"r\") as f:\n",
    "        lines = f.readlines()\n",
    "        cur_index = 0\n",
    "        for index , line in enumerate(lines):\n",
    "            if index % 4 == 0:\n",
    "                paired_outputs[cur_index] = {\"article\": line}\n",
    "            elif index % 4 == 1:\n",
    "                paired_outputs[cur_index][\"reference\"] = line\n",
    "            elif index % 4 == 2:\n",
    "                paired_outputs[cur_index][\"summary\"] = line\n",
    "            elif index % 4 == 3:\n",
    "                cur_index += 1\n",
    "    return paired_outputs\n",
    "def get_rouge_scores(references, candidates):\n",
    "    rouge = evaluate.load(\"rouge\")\n",
    "    results = rouge.compute(predictions=candidates, references=references)\n",
    "    print(results)\n",
    "\n",
    "\n",
    "\n",
    "\n",
    "def read_file(input_dict):\n",
    "\n",
    "    inputs = []\n",
    "    candidates = []\n",
    "    references = []\n",
    "\n",
    "    for key in input_dict.keys():\n",
    "        input = input_dict[key]['article']\n",
    "        gold = input_dict[key]['reference']\n",
    "        summary = input_dict[key]['summary']\n",
    "        input = input.strip()\n",
    "        input = re.sub('<.*?>', '', input)\n",
    "        gold = gold.strip()\n",
    "        gold = re.sub('<.*?>', '', gold)\n",
    "        summary = summary.strip()\n",
    "        summary = re.sub('<.*?>', '', summary)\n",
    "        inputs.append(input)\n",
    "        candidates.append(summary)\n",
    "        references.append(gold)\n",
    "\n",
    "    return inputs, references, candidates\n",
    "\n",
    "\n",
    "\n",
    "def compute_rouge(input_dict):\n",
    "    inputs, references, candidates = read_file(input_dict)\n",
    "    get_rouge_scores(references, candidates)\n",
    "\n",
    "def get_overlap(inp, out, ngram):\n",
    "    grams_inp = set(ngrams(word_tokenize(inp.lower()), ngram))\n",
    "    grams_out = set(ngrams(word_tokenize(out.lower()), ngram))\n",
    "\n",
    "    total = len(grams_out)\n",
    "    common = len(grams_inp.intersection(grams_out))\n",
    "    if total == 0:\n",
    "        return 0\n",
    "    else:\n",
    "        return float(common) / float(total)\n",
    "def get_overlap_file(input_dict , output_filename, ngram=2, graph=False):\n",
    "    \"\"\" draws and stores the ngram overlap of the generated and gold summaries with the input \n",
    "        ARGS : \n",
    "            input_dict : input dict where key is index, where each output is of the form article , reference, summary\n",
    "            output_filename : used to store the resulting plot\n",
    "            ngram : the size of the ngram overlap to be considered\n",
    "            graph : whether to draw the graph or not\n",
    "\n",
    "    \n",
    "    \"\"\"\n",
    "\n",
    "    overlap_gold = []\n",
    "    overlap_gen = []\n",
    "    gen_length = []\n",
    "    gold_length = []\n",
    "\n",
    "    for key in input_dict.keys():\n",
    "        inp = input_dict[key]['article']\n",
    "        gold = input_dict[key]['reference']\n",
    "        out = input_dict[key]['summary']\n",
    "\n",
    "\n",
    "        overlap_gold.append(get_overlap(inp, gold, ngram))\n",
    "        overlap_gen.append(get_overlap(inp, out, ngram))\n",
    "\n",
    "        gen_length.append(len(out.split(' ')))\n",
    "        gold_length.append(len(gold.split(' ')))\n",
    "\n",
    "\n",
    "    overlap_gold_mean = np.mean(overlap_gold)\n",
    "    overlap_gen_mean = np.mean(overlap_gen)\n",
    "    gen_length = np.mean(gen_length)\n",
    "    gold_length = np.mean(gold_length)\n",
    "\n",
    "\n",
    "    #print(f'Gold overlap %dgram = %f' % (ngram, overlap_gold_mean))\n",
    "    print(f'Generated overlap %dgram = %f' % (ngram, overlap_gen_mean))\n",
    "\n",
    "    #print(f'Gold length = %f' % gold_length)\n",
    "    print(f'Generated length = %f' % gen_length)\n",
    "\n",
    "    if graph:\n",
    "        # the histogram of the data\n",
    "        kwargs = dict(histtype='stepfilled', alpha=0.5, density=True, bins=80)\n",
    "\n",
    "        weights = np.ones_like(overlap_gold) / float(len(overlap_gold))\n",
    "        plt.hist(overlap_gold, **kwargs, label='gold', weights=weights)\n",
    "\n",
    "        weights = np.ones_like(overlap_gen) / float(len(overlap_gold))\n",
    "        plt.hist(overlap_gen, **kwargs, label='generated', weights=weights)\n",
    "\n",
    "\n",
    "\n",
    "        plt.xlabel(f'{ngram}-gram overlap')\n",
    "        plt.ylim(0, 8)\n",
    "        #plt.xlim(0, 1)\n",
    "        plt.legend()\n",
    "        plt.grid(True)\n",
    "        plt.savefig(output_filename)\n",
    "        plt.clf()\n",
    "    return overlap_gold, overlap_gen\n",
    "def get_all_experiment_filepaths(exp_name = 'exp_0'):\n",
    "    experiment_path = os.path.join(\"./outputs\", exp_name)\n",
    "    all_dir_path = [os.path.join(experiment_path, dir) for dir in os.listdir(experiment_path) if os.path.isdir(os.path.join(experiment_path, dir))]\n",
    "    filepaths = {}\n",
    "    for dir in all_dir_path:\n",
    "        basename = os.path.basename(dir)\n",
    "        filepaths[basename] = os.path.join(dir, \"test_outfinal.txt\")\n",
    "    return filepaths\n",
    "def generate_results(exp_name = \"exp_0\"):\n",
    "    # print the experiment \n",
    "    print(\"experiment name : \" + str(exp_name))\n",
    "    #head_0_outputs = get_paired_outputs(\"./outputs/\" + str(exp_name) + \"/head_0/test_outfinal.txt\")\n",
    "    #head_1_outputs = get_paired_outputs(\"./outputs/\" + str(exp_name) + \"/head_1/test_outfinal.txt\")\n",
    "    #mixed_outputs = get_paired_outputs(\"./outputs/\" + str(exp_name) + \"/mixed/test_outfinal.txt\")\n",
    "    #filepaths = get_all_filepaths(\"outputs/exp_3\")\n",
    "    #head_0_outputs = get_paired_outputs(filepaths[\"head_0\"])\n",
    "    #head_1_outputs = get_paired_outputs(filepaths[\"head_1\"])\n",
    "    #mixed_outputs = get_paired_outputs(filepaths[\"mixed\"])\n",
    "    filepaths = get_all_experiment_filepaths(exp_name)\n",
    "\n",
    "    print(\"gold statistic\")\n",
    "    print(\"gold overlap : {0} and gold length : {1}\".format(0.44, 14))\n",
    "\n",
    "    for mixture_type, filepath in filepaths.items():\n",
    "        print(\"for mixture type : \" + str(mixture_type))\n",
    "        outputs = get_paired_outputs(filepath)\n",
    "        compute_rouge(outputs)\n",
    "        res = get_overlap_file(outputs, \"./outputs/\" + str(exp_name) + \"/\" + str(mixture_type) + \"_overlap.jpg\", ngram = 2, graph = True)\n",
    "        print(\"\")\n",
    "        print(\"---------------------------------- Done ----------------------------------\")\n",
    "\n",
    "\n",
    "    # print(\"for head 0 \")\n",
    "    # compute_rouge(head_0_outputs)\n",
    "    # head_0_overlap_gold, head_0_overlap_gen = get_overlap_file(head_0_outputs, \"./outputs/\" + str(exp_name) + \"/head_0_overlap.jpg\", ngram = 2, graph = True)\n",
    "    # print(\"\")\n",
    "    \n",
    "    # print(\"for head 1\")\n",
    "    # compute_rouge(head_1_outputs)\n",
    "    # head_1_overlap_gold, head_1_overlap_gen = get_overlap_file(head_1_outputs, \"./outputs/\" + str(exp_name) + \"/head_1_overlap.jpg\", ngram = 2, graph = True)\n",
    "    # print(\"\")\n",
    "\n",
    "    # print(\"for mixed\")\n",
    "    # compute_rouge(mixed_outputs)\n",
    "    # mixed_overlap_gold, mixed_overlap_gen = get_overlap_file(mixed_outputs, \"./outputs/\" + str(exp_name) + \"/mixed_overlap.jpg\", ngram = 2, graph = True)\n",
    "    # print(\"\")\n",
    "\n",
    "    print(\"---------------------------------- All Done ----------------------------------\")\n",
    "    print(\"\")\n",
    "    print(\"\")\n",
    "\n",
    "    #print(\"head 0\")\n",
    "    #head_0_overlap_gold, head_0_overlap_gen = get_overlap_file(head_0_outputs, \"./outputs/\" + str(exp_name) + \"/head_0_overlap.jpg\", ngram = 2, graph = True)\n",
    "    #print(\"head 1\")\n",
    "    #head_1_overlap_gold, head_1_overlap_gen = get_overlap_file(head_1_outputs, \"./outputs/\" + str(exp_name) + \"/head_1_overlap.jpg\", ngram = 2, graph = True)\n",
    "    # print(\"mixed\")\n",
    "    # mixed_overlap_gold, mixed_overlap_gen = get_overlap_file(mixed_outputs, \"./outputs/\" + str(exp_name) + \"/mixed_overlap.jpg\", ngram = 2, graph = True)\n",
    "    \n",
    "    # kwargs = dict(histtype='stepfilled', alpha=0.5, density=True, bins=80)\n",
    "\n",
    "    # weights = np.ones_like(head_0_overlap_gen) / float(len(head_0_overlap_gold))\n",
    "    # plt.hist(head_0_overlap_gen, **kwargs, label='head_0', weights=weights)\n",
    "\n",
    "    # weights = np.ones_like(head_1_overlap_gen) / float(len(head_1_overlap_gold))\n",
    "    # plt.hist(head_1_overlap_gen, **kwargs, label='head_1', weights=weights)\n",
    "\n",
    "    # weights = np.ones_like(mixed_overlap_gen) / float(len(mixed_overlap_gold))\n",
    "    # plt.hist(mixed_overlap_gen, **kwargs, label='mixed', weights=weights)\n",
    "\n",
    "\n",
    "\n",
    "    # plt.xlabel(f'{2}-gram overlap')\n",
    "    # plt.ylim(0, 8)\n",
    "    # #plt.xlim(0, 1)\n",
    "    # plt.legend()\n",
    "    # plt.grid(True)\n",
    "    # plt.savefig(\"./outputs/\" + str(exp_name) + \"/combined_overlap.jpg\")\n",
    "    # plt.clf()\n",
    "    # print(\"----------------------------- All done ----------------------------------\")\n",
    "    #return head_0_overlap_gold, head_0_overlap_gen, head_1_overlap_gold, head_1_overlap_gen, mixed_overlap_gold, mixed_overlap_gen\n",
    "    #return head_0_overlap_gold, head_0_overlap_gen, head_1_overlap_gold, head_1_overlap_gen\n",
    "def do_experiments(list_of_experiments):\n",
    "    for exp in list_of_experiments:\n",
    "        results = generate_results(exp)\n",
    "        print(\"---------------------------------- Experiment Done ----------------------------------\")\n",
    "\n",
    "\n",
    "\n",
    "\n",
    "\n"
   ]
  },
  {
   "cell_type": "code",
   "execution_count": 8,
   "metadata": {},
   "outputs": [
    {
     "name": "stdout",
     "output_type": "stream",
     "text": [
      "experiment name : overlap_supervision_div_loss_0_epoch_1\n",
      "gold statistic\n",
      "gold overlap : 0.44 and gold length : 14\n",
      "for mixture type : prob_0.75\n"
     ]
    },
    {
     "name": "stderr",
     "output_type": "stream",
     "text": [
      "INFO:absl:Using default tokenizer.\n"
     ]
    },
    {
     "name": "stdout",
     "output_type": "stream",
     "text": [
      "{'rouge1': 0.28696378385877874, 'rouge2': 0.1290580159926566, 'rougeL': 0.24873941571460334, 'rougeLsum': 0.24869075427257956}\n",
      "Generated overlap 2gram = 0.703914\n",
      "Generated length = 22.591803\n",
      "\n",
      "---------------------------------- Done ----------------------------------\n",
      "for mixture type : prob_0.50\n"
     ]
    },
    {
     "name": "stderr",
     "output_type": "stream",
     "text": [
      "INFO:absl:Using default tokenizer.\n"
     ]
    },
    {
     "name": "stdout",
     "output_type": "stream",
     "text": [
      "{'rouge1': 0.274799603324163, 'rouge2': 0.12974137989851775, 'rougeL': 0.2423226131661041, 'rougeLsum': 0.24187799104409674}\n",
      "Generated overlap 2gram = 0.840950\n",
      "Generated length = 23.379508\n",
      "\n",
      "---------------------------------- Done ----------------------------------\n",
      "for mixture type : head_0\n"
     ]
    },
    {
     "name": "stderr",
     "output_type": "stream",
     "text": [
      "INFO:absl:Using default tokenizer.\n"
     ]
    },
    {
     "name": "stdout",
     "output_type": "stream",
     "text": [
      "{'rouge1': 0.2805427559593756, 'rouge2': 0.11691095784587945, 'rougeL': 0.23925218862330172, 'rougeLsum': 0.23899335174212738}\n",
      "Generated overlap 2gram = 0.504768\n",
      "Generated length = 20.841803\n",
      "\n",
      "---------------------------------- Done ----------------------------------\n",
      "for mixture type : prob_0.25\n"
     ]
    },
    {
     "name": "stderr",
     "output_type": "stream",
     "text": [
      "INFO:absl:Using default tokenizer.\n"
     ]
    },
    {
     "name": "stdout",
     "output_type": "stream",
     "text": [
      "{'rouge1': 0.26094290038336865, 'rouge2': 0.12025530320827987, 'rougeL': 0.22914644157204989, 'rougeLsum': 0.22911855352236193}\n",
      "Generated overlap 2gram = 0.893144\n",
      "Generated length = 23.415574\n",
      "\n",
      "---------------------------------- Done ----------------------------------\n",
      "for mixture type : head_1\n"
     ]
    },
    {
     "name": "stderr",
     "output_type": "stream",
     "text": [
      "INFO:absl:Using default tokenizer.\n"
     ]
    },
    {
     "name": "stdout",
     "output_type": "stream",
     "text": [
      "{'rouge1': 0.24888740512286883, 'rouge2': 0.1097716133115712, 'rougeL': 0.21780246360664451, 'rougeLsum': 0.21789008029744472}\n",
      "Generated overlap 2gram = 0.901271\n",
      "Generated length = 23.236066\n",
      "\n",
      "---------------------------------- Done ----------------------------------\n",
      "---------------------------------- All Done ----------------------------------\n",
      "\n",
      "\n",
      "---------------------------------- Experiment Done ----------------------------------\n",
      "experiment name : overlap_supervision_div_loss_0_epoch_2\n",
      "gold statistic\n",
      "gold overlap : 0.44 and gold length : 14\n",
      "for mixture type : prob_0.75\n"
     ]
    },
    {
     "name": "stderr",
     "output_type": "stream",
     "text": [
      "INFO:absl:Using default tokenizer.\n"
     ]
    },
    {
     "name": "stdout",
     "output_type": "stream",
     "text": [
      "{'rouge1': 0.28881481759371797, 'rouge2': 0.13182799580031013, 'rougeL': 0.2506187407279432, 'rougeLsum': 0.25038632504469155}\n",
      "Generated overlap 2gram = 0.675177\n",
      "Generated length = 22.389344\n",
      "\n",
      "---------------------------------- Done ----------------------------------\n",
      "for mixture type : prob_0.50\n"
     ]
    },
    {
     "name": "stderr",
     "output_type": "stream",
     "text": [
      "INFO:absl:Using default tokenizer.\n"
     ]
    },
    {
     "name": "stdout",
     "output_type": "stream",
     "text": [
      "{'rouge1': 0.2736731742978574, 'rouge2': 0.1276823330544158, 'rougeL': 0.23892241340384024, 'rougeLsum': 0.23883041768330981}\n",
      "Generated overlap 2gram = 0.830600\n",
      "Generated length = 22.701639\n",
      "\n",
      "---------------------------------- Done ----------------------------------\n",
      "for mixture type : head_0\n"
     ]
    },
    {
     "name": "stderr",
     "output_type": "stream",
     "text": [
      "INFO:absl:Using default tokenizer.\n"
     ]
    },
    {
     "name": "stdout",
     "output_type": "stream",
     "text": [
      "{'rouge1': 0.2793504038703094, 'rouge2': 0.11741021090675656, 'rougeL': 0.23989802525318815, 'rougeLsum': 0.23994286275138502}\n",
      "Generated overlap 2gram = 0.484637\n",
      "Generated length = 20.184426\n",
      "\n",
      "---------------------------------- Done ----------------------------------\n",
      "for mixture type : prob_0.25\n"
     ]
    },
    {
     "name": "stderr",
     "output_type": "stream",
     "text": [
      "INFO:absl:Using default tokenizer.\n"
     ]
    },
    {
     "name": "stdout",
     "output_type": "stream",
     "text": [
      "{'rouge1': 0.2627835797417024, 'rouge2': 0.12147635703081508, 'rougeL': 0.23187350308498497, 'rougeLsum': 0.23202261961415765}\n",
      "Generated overlap 2gram = 0.879260\n",
      "Generated length = 22.354918\n",
      "\n",
      "---------------------------------- Done ----------------------------------\n",
      "for mixture type : head_1\n"
     ]
    },
    {
     "name": "stderr",
     "output_type": "stream",
     "text": [
      "INFO:absl:Using default tokenizer.\n"
     ]
    },
    {
     "name": "stdout",
     "output_type": "stream",
     "text": [
      "{'rouge1': 0.2554594988837643, 'rouge2': 0.11801997582477203, 'rougeL': 0.2270428984181919, 'rougeLsum': 0.2271639458539461}\n",
      "Generated overlap 2gram = 0.891498\n",
      "Generated length = 21.877049\n",
      "\n",
      "---------------------------------- Done ----------------------------------\n",
      "---------------------------------- All Done ----------------------------------\n",
      "\n",
      "\n",
      "---------------------------------- Experiment Done ----------------------------------\n",
      "experiment name : overlap_supervision_div_loss_0.1_epoch_1\n",
      "gold statistic\n",
      "gold overlap : 0.44 and gold length : 14\n",
      "for mixture type : prob_0.75\n"
     ]
    },
    {
     "name": "stderr",
     "output_type": "stream",
     "text": [
      "INFO:absl:Using default tokenizer.\n"
     ]
    },
    {
     "name": "stdout",
     "output_type": "stream",
     "text": [
      "{'rouge1': 0.28817171036974965, 'rouge2': 0.13282803653210187, 'rougeL': 0.2505260616223831, 'rougeLsum': 0.2506459002477697}\n",
      "Generated overlap 2gram = 0.708320\n",
      "Generated length = 22.872131\n",
      "\n",
      "---------------------------------- Done ----------------------------------\n",
      "for mixture type : prob_0.50\n"
     ]
    },
    {
     "name": "stderr",
     "output_type": "stream",
     "text": [
      "INFO:absl:Using default tokenizer.\n"
     ]
    },
    {
     "name": "stdout",
     "output_type": "stream",
     "text": [
      "{'rouge1': 0.27208291972795984, 'rouge2': 0.12604321488566586, 'rougeL': 0.23867935361841489, 'rougeLsum': 0.23854096052129442}\n",
      "Generated overlap 2gram = 0.841143\n",
      "Generated length = 23.877049\n",
      "\n",
      "---------------------------------- Done ----------------------------------\n",
      "for mixture type : head_0\n"
     ]
    },
    {
     "name": "stderr",
     "output_type": "stream",
     "text": [
      "INFO:absl:Using default tokenizer.\n"
     ]
    },
    {
     "name": "stdout",
     "output_type": "stream",
     "text": [
      "{'rouge1': 0.2799416482989945, 'rouge2': 0.11731889857334127, 'rougeL': 0.2393907610684488, 'rougeLsum': 0.239280431358535}\n",
      "Generated overlap 2gram = 0.504377\n",
      "Generated length = 20.813115\n",
      "\n",
      "---------------------------------- Done ----------------------------------\n",
      "for mixture type : prob_0.25\n"
     ]
    },
    {
     "name": "stderr",
     "output_type": "stream",
     "text": [
      "INFO:absl:Using default tokenizer.\n"
     ]
    },
    {
     "name": "stdout",
     "output_type": "stream",
     "text": [
      "{'rouge1': 0.2604581607841886, 'rouge2': 0.11945782151554049, 'rougeL': 0.22900926798144794, 'rougeLsum': 0.22866814371691715}\n",
      "Generated overlap 2gram = 0.887026\n",
      "Generated length = 22.971311\n",
      "\n",
      "---------------------------------- Done ----------------------------------\n",
      "for mixture type : head_1\n"
     ]
    },
    {
     "name": "stderr",
     "output_type": "stream",
     "text": [
      "INFO:absl:Using default tokenizer.\n"
     ]
    },
    {
     "name": "stdout",
     "output_type": "stream",
     "text": [
      "{'rouge1': 0.2517257306896905, 'rouge2': 0.11493994379761382, 'rougeL': 0.2225400221852059, 'rougeLsum': 0.22253602069146305}\n",
      "Generated overlap 2gram = 0.899774\n",
      "Generated length = 23.137705\n",
      "\n",
      "---------------------------------- Done ----------------------------------\n",
      "---------------------------------- All Done ----------------------------------\n",
      "\n",
      "\n",
      "---------------------------------- Experiment Done ----------------------------------\n",
      "experiment name : overlap_supervision_div_loss_0.1_epoch_2\n",
      "gold statistic\n",
      "gold overlap : 0.44 and gold length : 14\n",
      "for mixture type : prob_0.75\n"
     ]
    },
    {
     "name": "stderr",
     "output_type": "stream",
     "text": [
      "INFO:absl:Using default tokenizer.\n"
     ]
    },
    {
     "name": "stdout",
     "output_type": "stream",
     "text": [
      "{'rouge1': 0.2895483865699804, 'rouge2': 0.13274516120646596, 'rougeL': 0.2512052404483664, 'rougeLsum': 0.25079817460511256}\n",
      "Generated overlap 2gram = 0.676657\n",
      "Generated length = 22.478689\n",
      "\n",
      "---------------------------------- Done ----------------------------------\n",
      "for mixture type : prob_0.50\n"
     ]
    },
    {
     "name": "stderr",
     "output_type": "stream",
     "text": [
      "INFO:absl:Using default tokenizer.\n"
     ]
    },
    {
     "name": "stdout",
     "output_type": "stream",
     "text": [
      "{'rouge1': 0.27904651862085667, 'rouge2': 0.1316153882496854, 'rougeL': 0.24426163270428897, 'rougeLsum': 0.2438613941410493}\n",
      "Generated overlap 2gram = 0.831288\n",
      "Generated length = 22.682787\n",
      "\n",
      "---------------------------------- Done ----------------------------------\n",
      "for mixture type : head_0\n"
     ]
    },
    {
     "name": "stderr",
     "output_type": "stream",
     "text": [
      "INFO:absl:Using default tokenizer.\n"
     ]
    },
    {
     "name": "stdout",
     "output_type": "stream",
     "text": [
      "{'rouge1': 0.27961206317966614, 'rouge2': 0.11976469959374683, 'rougeL': 0.24176946512383823, 'rougeLsum': 0.2416773088674224}\n",
      "Generated overlap 2gram = 0.483181\n",
      "Generated length = 20.235246\n",
      "\n",
      "---------------------------------- Done ----------------------------------\n",
      "for mixture type : prob_0.25\n"
     ]
    },
    {
     "name": "stderr",
     "output_type": "stream",
     "text": [
      "INFO:absl:Using default tokenizer.\n"
     ]
    },
    {
     "name": "stdout",
     "output_type": "stream",
     "text": [
      "{'rouge1': 0.2607271970825721, 'rouge2': 0.1215270851045708, 'rougeL': 0.22984420417626528, 'rougeLsum': 0.22992061172859252}\n",
      "Generated overlap 2gram = 0.877833\n",
      "Generated length = 22.907377\n",
      "\n",
      "---------------------------------- Done ----------------------------------\n",
      "for mixture type : head_1\n"
     ]
    },
    {
     "name": "stderr",
     "output_type": "stream",
     "text": [
      "INFO:absl:Using default tokenizer.\n"
     ]
    },
    {
     "name": "stdout",
     "output_type": "stream",
     "text": [
      "{'rouge1': 0.25214939301732053, 'rouge2': 0.11694785886355377, 'rougeL': 0.22372920818796777, 'rougeLsum': 0.2235199886113}\n",
      "Generated overlap 2gram = 0.890492\n",
      "Generated length = 22.068852\n",
      "\n",
      "---------------------------------- Done ----------------------------------\n",
      "---------------------------------- All Done ----------------------------------\n",
      "\n",
      "\n",
      "---------------------------------- Experiment Done ----------------------------------\n",
      "experiment name : overlap_supervision_div_loss_0.5_epoch_1\n",
      "gold statistic\n",
      "gold overlap : 0.44 and gold length : 14\n",
      "for mixture type : prob_0.75\n"
     ]
    },
    {
     "name": "stderr",
     "output_type": "stream",
     "text": [
      "INFO:absl:Using default tokenizer.\n"
     ]
    },
    {
     "name": "stdout",
     "output_type": "stream",
     "text": [
      "{'rouge1': 0.28443636819598755, 'rouge2': 0.12907057387764442, 'rougeL': 0.24770683682983277, 'rougeLsum': 0.24745604802165905}\n",
      "Generated overlap 2gram = 0.701260\n",
      "Generated length = 22.619672\n",
      "\n",
      "---------------------------------- Done ----------------------------------\n",
      "for mixture type : prob_0.50\n"
     ]
    },
    {
     "name": "stderr",
     "output_type": "stream",
     "text": [
      "INFO:absl:Using default tokenizer.\n"
     ]
    },
    {
     "name": "stdout",
     "output_type": "stream",
     "text": [
      "{'rouge1': 0.27470200443649684, 'rouge2': 0.12989528676727416, 'rougeL': 0.24170868156855857, 'rougeLsum': 0.24171001333844422}\n",
      "Generated overlap 2gram = 0.836871\n",
      "Generated length = 23.795082\n",
      "\n",
      "---------------------------------- Done ----------------------------------\n",
      "for mixture type : head_0\n"
     ]
    },
    {
     "name": "stderr",
     "output_type": "stream",
     "text": [
      "INFO:absl:Using default tokenizer.\n"
     ]
    },
    {
     "name": "stdout",
     "output_type": "stream",
     "text": [
      "{'rouge1': 0.279373544706034, 'rouge2': 0.11806040147518149, 'rougeL': 0.23888167352552336, 'rougeLsum': 0.23888521978736696}\n",
      "Generated overlap 2gram = 0.517293\n",
      "Generated length = 20.724590\n",
      "\n",
      "---------------------------------- Done ----------------------------------\n",
      "for mixture type : prob_0.25\n"
     ]
    },
    {
     "name": "stderr",
     "output_type": "stream",
     "text": [
      "INFO:absl:Using default tokenizer.\n"
     ]
    },
    {
     "name": "stdout",
     "output_type": "stream",
     "text": [
      "{'rouge1': 0.26031225203448005, 'rouge2': 0.12007740435322076, 'rougeL': 0.2290738959688881, 'rougeLsum': 0.2291195044785337}\n",
      "Generated overlap 2gram = 0.890241\n",
      "Generated length = 23.731148\n",
      "\n",
      "---------------------------------- Done ----------------------------------\n",
      "for mixture type : head_1\n"
     ]
    },
    {
     "name": "stderr",
     "output_type": "stream",
     "text": [
      "INFO:absl:Using default tokenizer.\n"
     ]
    },
    {
     "name": "stdout",
     "output_type": "stream",
     "text": [
      "{'rouge1': 0.24631884573274931, 'rouge2': 0.11151029699702558, 'rougeL': 0.21711707481803041, 'rougeLsum': 0.21718113329880187}\n",
      "Generated overlap 2gram = 0.902681\n",
      "Generated length = 24.086885\n",
      "\n",
      "---------------------------------- Done ----------------------------------\n",
      "---------------------------------- All Done ----------------------------------\n",
      "\n",
      "\n",
      "---------------------------------- Experiment Done ----------------------------------\n",
      "experiment name : overlap_supervision_div_loss_0.5_epoch_2\n",
      "gold statistic\n",
      "gold overlap : 0.44 and gold length : 14\n",
      "for mixture type : prob_0.75\n"
     ]
    },
    {
     "name": "stderr",
     "output_type": "stream",
     "text": [
      "INFO:absl:Using default tokenizer.\n"
     ]
    },
    {
     "name": "stdout",
     "output_type": "stream",
     "text": [
      "{'rouge1': 0.29142618477314697, 'rouge2': 0.13421915407046892, 'rougeL': 0.2529809218426231, 'rougeLsum': 0.2527462262146603}\n",
      "Generated overlap 2gram = 0.666426\n",
      "Generated length = 21.767213\n",
      "\n",
      "---------------------------------- Done ----------------------------------\n",
      "for mixture type : prob_0.50\n"
     ]
    },
    {
     "name": "stderr",
     "output_type": "stream",
     "text": [
      "INFO:absl:Using default tokenizer.\n"
     ]
    },
    {
     "name": "stdout",
     "output_type": "stream",
     "text": [
      "{'rouge1': 0.27879429017516866, 'rouge2': 0.1309183548651181, 'rougeL': 0.2441073733248632, 'rougeLsum': 0.2439665384087802}\n",
      "Generated overlap 2gram = 0.829444\n",
      "Generated length = 22.391803\n",
      "\n",
      "---------------------------------- Done ----------------------------------\n",
      "for mixture type : head_0\n"
     ]
    },
    {
     "name": "stderr",
     "output_type": "stream",
     "text": [
      "INFO:absl:Using default tokenizer.\n"
     ]
    },
    {
     "name": "stdout",
     "output_type": "stream",
     "text": [
      "{'rouge1': 0.2809941579977323, 'rouge2': 0.11971528298996015, 'rougeL': 0.24067830162120848, 'rougeLsum': 0.24080633819536912}\n",
      "Generated overlap 2gram = 0.481822\n",
      "Generated length = 19.707377\n",
      "\n",
      "---------------------------------- Done ----------------------------------\n",
      "for mixture type : prob_0.25\n"
     ]
    },
    {
     "name": "stderr",
     "output_type": "stream",
     "text": [
      "INFO:absl:Using default tokenizer.\n"
     ]
    },
    {
     "name": "stdout",
     "output_type": "stream",
     "text": [
      "{'rouge1': 0.2602041764363071, 'rouge2': 0.11711012169640514, 'rougeL': 0.22717077826522356, 'rougeLsum': 0.227101047163914}\n",
      "Generated overlap 2gram = 0.879581\n",
      "Generated length = 22.592623\n",
      "\n",
      "---------------------------------- Done ----------------------------------\n",
      "for mixture type : head_1\n"
     ]
    },
    {
     "name": "stderr",
     "output_type": "stream",
     "text": [
      "INFO:absl:Using default tokenizer.\n"
     ]
    },
    {
     "name": "stdout",
     "output_type": "stream",
     "text": [
      "{'rouge1': 0.2547330413287194, 'rouge2': 0.1172006550066981, 'rougeL': 0.22501032564573772, 'rougeLsum': 0.22502769506028558}\n",
      "Generated overlap 2gram = 0.888274\n",
      "Generated length = 21.856557\n",
      "\n",
      "---------------------------------- Done ----------------------------------\n",
      "---------------------------------- All Done ----------------------------------\n",
      "\n",
      "\n",
      "---------------------------------- Experiment Done ----------------------------------\n",
      "experiment name : overlap_supervision_div_loss_1_epoch_1\n",
      "gold statistic\n",
      "gold overlap : 0.44 and gold length : 14\n",
      "for mixture type : prob_0.75\n"
     ]
    },
    {
     "name": "stderr",
     "output_type": "stream",
     "text": [
      "INFO:absl:Using default tokenizer.\n"
     ]
    },
    {
     "name": "stdout",
     "output_type": "stream",
     "text": [
      "{'rouge1': 0.2845630845969091, 'rouge2': 0.1323473247438186, 'rougeL': 0.24811634741020444, 'rougeLsum': 0.2483521562507094}\n",
      "Generated overlap 2gram = 0.704871\n",
      "Generated length = 22.072131\n",
      "\n",
      "---------------------------------- Done ----------------------------------\n",
      "for mixture type : prob_0.50\n"
     ]
    },
    {
     "name": "stderr",
     "output_type": "stream",
     "text": [
      "INFO:absl:Using default tokenizer.\n"
     ]
    },
    {
     "name": "stdout",
     "output_type": "stream",
     "text": [
      "{'rouge1': 0.27087248794602886, 'rouge2': 0.12630208122780742, 'rougeL': 0.23860675373109602, 'rougeLsum': 0.23831170655392941}\n",
      "Generated overlap 2gram = 0.839494\n",
      "Generated length = 23.267213\n",
      "\n",
      "---------------------------------- Done ----------------------------------\n",
      "for mixture type : head_0\n"
     ]
    },
    {
     "name": "stderr",
     "output_type": "stream",
     "text": [
      "INFO:absl:Using default tokenizer.\n"
     ]
    },
    {
     "name": "stdout",
     "output_type": "stream",
     "text": [
      "{'rouge1': 0.2775916413721937, 'rouge2': 0.11317364225848442, 'rougeL': 0.23788747011083153, 'rougeLsum': 0.23769039396778435}\n",
      "Generated overlap 2gram = 0.512026\n",
      "Generated length = 20.239344\n",
      "\n",
      "---------------------------------- Done ----------------------------------\n",
      "for mixture type : prob_0.25\n"
     ]
    },
    {
     "name": "stderr",
     "output_type": "stream",
     "text": [
      "INFO:absl:Using default tokenizer.\n"
     ]
    },
    {
     "name": "stdout",
     "output_type": "stream",
     "text": [
      "{'rouge1': 0.25156337707740284, 'rouge2': 0.11035726697264459, 'rougeL': 0.2199702487222756, 'rougeLsum': 0.219719414051714}\n",
      "Generated overlap 2gram = 0.880521\n",
      "Generated length = 23.791803\n",
      "\n",
      "---------------------------------- Done ----------------------------------\n",
      "for mixture type : head_1\n"
     ]
    },
    {
     "name": "stderr",
     "output_type": "stream",
     "text": [
      "INFO:absl:Using default tokenizer.\n"
     ]
    },
    {
     "name": "stdout",
     "output_type": "stream",
     "text": [
      "{'rouge1': 0.24301175809505984, 'rouge2': 0.10733730974413527, 'rougeL': 0.21257942223810478, 'rougeLsum': 0.21272750992372716}\n",
      "Generated overlap 2gram = 0.891170\n",
      "Generated length = 24.327869\n",
      "\n",
      "---------------------------------- Done ----------------------------------\n",
      "---------------------------------- All Done ----------------------------------\n",
      "\n",
      "\n",
      "---------------------------------- Experiment Done ----------------------------------\n",
      "experiment name : overlap_supervision_div_loss_1_epoch_2\n",
      "gold statistic\n",
      "gold overlap : 0.44 and gold length : 14\n",
      "for mixture type : prob_0.75\n"
     ]
    },
    {
     "name": "stderr",
     "output_type": "stream",
     "text": [
      "INFO:absl:Using default tokenizer.\n"
     ]
    },
    {
     "name": "stdout",
     "output_type": "stream",
     "text": [
      "{'rouge1': 0.2886666866509302, 'rouge2': 0.1317086781258328, 'rougeL': 0.24964582135500088, 'rougeLsum': 0.2493309094125318}\n",
      "Generated overlap 2gram = 0.666880\n",
      "Generated length = 21.420492\n",
      "\n",
      "---------------------------------- Done ----------------------------------\n",
      "for mixture type : prob_0.50\n"
     ]
    },
    {
     "name": "stderr",
     "output_type": "stream",
     "text": [
      "INFO:absl:Using default tokenizer.\n"
     ]
    },
    {
     "name": "stdout",
     "output_type": "stream",
     "text": [
      "{'rouge1': 0.27453437063080444, 'rouge2': 0.12709102094179983, 'rougeL': 0.24066769410742495, 'rougeLsum': 0.24039782514667601}\n",
      "Generated overlap 2gram = 0.827388\n",
      "Generated length = 22.303279\n",
      "\n",
      "---------------------------------- Done ----------------------------------\n",
      "for mixture type : head_0\n"
     ]
    },
    {
     "name": "stderr",
     "output_type": "stream",
     "text": [
      "INFO:absl:Using default tokenizer.\n"
     ]
    },
    {
     "name": "stdout",
     "output_type": "stream",
     "text": [
      "{'rouge1': 0.2783646963566787, 'rouge2': 0.11783243471219407, 'rougeL': 0.24045679256064395, 'rougeLsum': 0.24064985193726085}\n",
      "Generated overlap 2gram = 0.480197\n",
      "Generated length = 19.400820\n",
      "\n",
      "---------------------------------- Done ----------------------------------\n",
      "for mixture type : prob_0.25\n"
     ]
    },
    {
     "name": "stderr",
     "output_type": "stream",
     "text": [
      "INFO:absl:Using default tokenizer.\n"
     ]
    },
    {
     "name": "stdout",
     "output_type": "stream",
     "text": [
      "{'rouge1': 0.25013684646228096, 'rouge2': 0.11273797418289688, 'rougeL': 0.2198814019147538, 'rougeLsum': 0.21979617336075782}\n",
      "Generated overlap 2gram = 0.880611\n",
      "Generated length = 23.099180\n",
      "\n",
      "---------------------------------- Done ----------------------------------\n",
      "for mixture type : head_1\n"
     ]
    },
    {
     "name": "stderr",
     "output_type": "stream",
     "text": [
      "INFO:absl:Using default tokenizer.\n"
     ]
    },
    {
     "name": "stdout",
     "output_type": "stream",
     "text": [
      "{'rouge1': 0.24077199656950682, 'rouge2': 0.1072698477490533, 'rougeL': 0.21280574300713706, 'rougeLsum': 0.21253481665566434}\n",
      "Generated overlap 2gram = 0.889769\n",
      "Generated length = 23.160656\n",
      "\n",
      "---------------------------------- Done ----------------------------------\n",
      "---------------------------------- All Done ----------------------------------\n",
      "\n",
      "\n",
      "---------------------------------- Experiment Done ----------------------------------\n"
     ]
    },
    {
     "data": {
      "text/plain": [
       "<Figure size 432x288 with 0 Axes>"
      ]
     },
     "metadata": {},
     "output_type": "display_data"
    }
   ],
   "source": [
    "#experiment_list = [\"baseline_div_loss_0\", \"baseline_div_loss_0.1\",\"baseline_div_loss_0.5\", \"baseline_div_loss_1\"]\n",
    "experiment_list = [\n",
    "    \"overlap_supervision_div_loss_0_epoch_1\",\n",
    "    \"overlap_supervision_div_loss_0_epoch_2\",\n",
    "\n",
    "    \"overlap_supervision_div_loss_0.1_epoch_1\",\n",
    "        \"overlap_supervision_div_loss_0.1_epoch_2\",\n",
    "\n",
    "    \"overlap_supervision_div_loss_0.5_epoch_1\",\n",
    "    \"overlap_supervision_div_loss_0.5_epoch_2\",\n",
    "\n",
    "\n",
    "    \"overlap_supervision_div_loss_1_epoch_1\",\n",
    "    \"overlap_supervision_div_loss_1_epoch_2\",\n",
    "\n",
    "]\n",
    "    \n",
    "do_experiments(experiment_list)"
   ]
  },
  {
   "cell_type": "code",
   "execution_count": null,
   "metadata": {},
   "outputs": [],
   "source": [
    "\n"
   ]
  },
  {
   "cell_type": "code",
   "execution_count": null,
   "metadata": {},
   "outputs": [],
   "source": []
  }
 ],
 "metadata": {
  "kernelspec": {
   "display_name": "habitat",
   "language": "python",
   "name": "python3"
  },
  "language_info": {
   "codemirror_mode": {
    "name": "ipython",
    "version": 3
   },
   "file_extension": ".py",
   "mimetype": "text/x-python",
   "name": "python",
   "nbconvert_exporter": "python",
   "pygments_lexer": "ipython3",
   "version": "3.7.13"
  }
 },
 "nbformat": 4,
 "nbformat_minor": 2
}
